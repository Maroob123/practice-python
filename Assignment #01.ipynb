{
 "cells": [
  {
   "cell_type": "code",
   "execution_count": 11,
   "metadata": {},
   "outputs": [
    {
     "name": "stdout",
     "output_type": "stream",
     "text": [
      "Twinkle, twinkle little star,\n",
      "             How I wonder what you are!\n",
      "                   up above the world so high,\n",
      "                   Like a diamond in the sky.\n",
      "Twinkle, twinkle, little star,\n",
      "             How I wonder what you are\n"
     ]
    }
   ],
   "source": [
    "#assignment 01 question 01\n",
    "print(\"\"\"Twinkle, twinkle little star,\n",
    "             How I wonder what you are!\n",
    "                   up above the world so high,\n",
    "                   Like a diamond in the sky.\n",
    "Twinkle, twinkle, little star,\n",
    "             How I wonder what you are\"\"\")"
   ]
  },
  {
   "cell_type": "code",
   "execution_count": 47,
   "metadata": {},
   "outputs": [
    {
     "name": "stdout",
     "output_type": "stream",
     "text": [
      "current python version is\n",
      "3.7.4 (default, Aug  9 2019, 18:34:13) [MSC v.1915 64 bit (AMD64)]\n",
      "the current version Info is\n",
      "sys.version_info(major=3, minor=7, micro=4, releaselevel='final', serial=0)\n"
     ]
    }
   ],
   "source": [
    "#assignment 01 question 02\n",
    "import sys\n",
    "print(\"current python version is\")\n",
    "print(sys.version)\n",
    "print(\"the current version Info is\")\n",
    "print(sys.version_info)"
   ]
  },
  {
   "cell_type": "code",
   "execution_count": 45,
   "metadata": {},
   "outputs": [
    {
     "name": "stdout",
     "output_type": "stream",
     "text": [
      "want to print today's date and time ?(y/n):\n",
      "y\n",
      "\n",
      "Today's date and time :\n",
      "2019-11-01 19:03:49.464410\n"
     ]
    }
   ],
   "source": [
    "#assignment 01 question 03\n",
    "import datetime\n",
    "print(\"want to print today's date and time ?(y/n):\")\n",
    "check=input()\n",
    "if check=='n':\n",
    "    exit()\n",
    "else:\n",
    "        print(\"\\nToday's date and time :\")\n",
    "        print(datetime.datetime.today())"
   ]
  },
  {
   "cell_type": "code",
   "execution_count": 41,
   "metadata": {},
   "outputs": [
    {
     "name": "stdout",
     "output_type": "stream",
     "text": [
      "enter the radius :12\n",
      "The area of the circle is :\t452.448\n"
     ]
    }
   ],
   "source": [
    "#assignment 01 question 04\n",
    "r=input(\"enter the radius :\")\n",
    "r=float(r)\n",
    "pi=3.142\n",
    "Area=pi * r *r\n",
    "Area=str(Area)\n",
    "print(\"The area of the circle is :\\t\"+Area)"
   ]
  },
  {
   "cell_type": "code",
   "execution_count": 46,
   "metadata": {},
   "outputs": [
    {
     "name": "stdout",
     "output_type": "stream",
     "text": [
      "Enter first name :syed muhammad \n",
      "Enter last name :maroob\n",
      "The order is :syed muhammad  maroob\n",
      "The reverse order is :maroob syed muhammad \n"
     ]
    }
   ],
   "source": [
    "#assignment 01 question 05\n",
    "a=input(\"Enter first name :\")\n",
    "b=input(\"Enter last name :\")\n",
    "print(\"The order is :\"+a+\" \"+b)\n",
    "print(\"The reverse order is :\"+b+\" \"+a )"
   ]
  },
  {
   "cell_type": "code",
   "execution_count": 22,
   "metadata": {},
   "outputs": [
    {
     "name": "stdout",
     "output_type": "stream",
     "text": [
      "Enter string 01: my name is\n",
      "Enter string 02: syed muhammad maroob\n",
      "the combination of string is:\t my name is syed muhammad maroob\n"
     ]
    }
   ],
   "source": [
    "#assignment 01 question 06\n",
    "string_1 = input(\"Enter string 01: \")\n",
    "string_2 = input(\"Enter string 02: \")\n",
    "c=string_1+\" \"+string_2\n",
    "print(\"the combination of string is:\\t \"+c)"
   ]
  }
 ],
 "metadata": {
  "kernelspec": {
   "display_name": "Python 3",
   "language": "python",
   "name": "python3"
  },
  "language_info": {
   "codemirror_mode": {
    "name": "ipython",
    "version": 3
   },
   "file_extension": ".py",
   "mimetype": "text/x-python",
   "name": "python",
   "nbconvert_exporter": "python",
   "pygments_lexer": "ipython3",
   "version": "3.7.4"
  }
 },
 "nbformat": 4,
 "nbformat_minor": 2
}
