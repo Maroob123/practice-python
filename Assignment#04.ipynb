{
 "cells": [
  {
   "cell_type": "code",
   "execution_count": 2,
   "metadata": {},
   "outputs": [
    {
     "name": "stdout",
     "output_type": "stream",
     "text": [
      "the list is:\n",
      "{'first_name': 'syed muhammad', 'last_name': 'Maroob', 'age': '20', 'city': 'karachi'}\n",
      "\n",
      "\n",
      "the updated list is:\n",
      "{'first_name': 'syed muhammad', 'last_name': 'Maroob', 'age': '20', 'city': 'karachi', 'qualification': 'graduation(inprogress)'}\n",
      "\n",
      "\n",
      "The list after chage in qulification\n",
      "{'first_name': 'syed muhammad', 'last_name': 'Maroob', 'age': '20', 'city': 'karachi', 'qualification': 'Masters(in progress)'}\n",
      "\n",
      "\n",
      "After delete the qulification key\n",
      "{'first_name': 'syed muhammad', 'last_name': 'Maroob', 'age': '20', 'city': 'karachi'}\n"
     ]
    }
   ],
   "source": [
    "#Question1:\n",
    "# Use a dictionary to store information about a person you know. Store their \n",
    "# first name, last name, age, and the city in which they live. You should have \n",
    "# keys such as first_name, last_name, age, and city. Print each piece of \n",
    "# information stored in your dictionary. Add a new key value pair about \n",
    "# qualification then update the qualification value to high academic level \n",
    "# then delete it.\n",
    "person={\n",
    "    \"first_name\":\"syed muhammad\",\n",
    "    \"last_name\":\"Maroob\",\n",
    "    \"age\":\"20\",\n",
    "    \"city\":\"karachi\"\n",
    "}\n",
    "print(\"the list is:\")\n",
    "print(person)\n",
    "print(\"\\n\")\n",
    "person[\"qualification\"]=\"graduation(inprogress)\"\n",
    "print(\"the updated list is:\")\n",
    "print(person)\n",
    "print(\"\\n\")\n",
    "print(\"The list after chage in qulification\")\n",
    "person[\"qualification\"]=\"Masters(in progress)\"\n",
    "print(person)\n",
    "print(\"\\n\")\n",
    "print(\"After delete the qulification key\")\n",
    "del person[\"qualification\"]\n",
    "print(person)"
   ]
  },
  {
   "cell_type": "code",
   "execution_count": 3,
   "metadata": {},
   "outputs": [
    {
     "name": "stdout",
     "output_type": "stream",
     "text": [
      "\n",
      "Karachi is in Pakistan.\n",
      "It has a population of about 15741000.\n",
      "The fact about this city is that It Is The Sixth Largest City In The World By  City Population.\n",
      "\n",
      "Lahore is in Pakistan.\n",
      "It has a population of about 12188000.\n",
      "The fact about this city is that Lahore Is The Second Largest City Of Pakistan.\n",
      "\n",
      "Multan is in Pakistan.\n",
      "It has a population of about 1972000.\n",
      "The fact about this city is that Multani Sohan Halwa Is Famous All Over The    World.\n"
     ]
    }
   ],
   "source": [
    "# Question2:\n",
    "# Make a dictionary called cities. Use the names of three cities as keys in \n",
    "# your dictionary. Create a dictionary of information about each city and \n",
    "# include the country that the city is in, its approximate population, and one \n",
    "# fact about that city. The keys for each city’s dictionary should be something\n",
    "# like country, population, and fact. Print the name of each city and all of\n",
    "# the information you have stored about it.\n",
    "cities = {\n",
    "    'Karachi': {\n",
    "        'country': 'pakistan',\n",
    "        'population': 15741000,\n",
    "        'fact': 'It is the Sixth largest city in the world by  city population',\n",
    "        },\n",
    "    'lahore': {\n",
    "        'country': 'pakistan',\n",
    "        'population': 12188000,\n",
    "        'fact': 'Lahore is the second largest city of Pakistan',\n",
    "        },\n",
    "    'Multan': {\n",
    "        'country': 'pakistan',\n",
    "        'population': 1972000,\n",
    "        'fact': 'Multani sohan halwa is famous all over the    world',\n",
    "        }\n",
    "    }\n",
    "\n",
    "for city, city_info in cities.items():\n",
    "    country = city_info['country'].title()\n",
    "    population = city_info['population']\n",
    "    facts = city_info['fact'].title()\n",
    "\n",
    "    print(\"\\n\" + city.title() + \" is in \" + country + \".\")\n",
    "    print(\"It has a population of about \" + str(population) + \".\")\n",
    "    print(\"The fact about this city is that \" + facts + \".\")"
   ]
  },
  {
   "cell_type": "code",
   "execution_count": 4,
   "metadata": {},
   "outputs": [
    {
     "name": "stdout",
     "output_type": "stream",
     "text": [
      "How old are you?\n",
      "Enter 'quit' when you are finished. 2\n",
      "  You get in free!\n",
      "How old are you?\n",
      "Enter 'quit' when you are finished. 13\n",
      "  Your ticket is $15.\n",
      "How old are you?\n",
      "Enter 'quit' when you are finished. 20\n",
      "  Your ticket is $15.\n",
      "How old are you?\n",
      "Enter 'quit' when you are finished. quit\n"
     ]
    }
   ],
   "source": [
    "# question 3:\n",
    "# A movie theater charges different ticket prices depending on a person’s age. \n",
    "# If a person is under the age of 3, the ticket is free; if they are between 3 \n",
    "# and 12, the ticket is $10; and if they are over age 12, theticket is $15. \n",
    "# Write a loop in which you ask users their age, and then tell them the cost of\n",
    "# their movie ticket.\n",
    "prompt = \"How old are you?\"\n",
    "prompt += \"\\nEnter 'quit' when you are finished. \"\n",
    "\n",
    "while True:\n",
    "    age = input(prompt)\n",
    "    if age == 'quit':\n",
    "        break\n",
    "    age = int(age)\n",
    "\n",
    "    if age < 3:\n",
    "        print(\"  You get in free!\")\n",
    "    elif age < 13:\n",
    "        print(\"  Your ticket is $10.\")\n",
    "    else:\n",
    "        print(\"  Your ticket is $15.\")"
   ]
  },
  {
   "cell_type": "code",
   "execution_count": 5,
   "metadata": {},
   "outputs": [
    {
     "name": "stdout",
     "output_type": "stream",
     "text": [
      "Beginning Game development by python and pygame by will McGugan   is one of my favorite books.\n"
     ]
    }
   ],
   "source": [
    "# Question4:\n",
    "# Write a function called favorite_book() that accepts one parameter, title. \n",
    "# The function should print a message, such as One of my favorite books is \n",
    "# Alice in Wonderland. Call the function, making sure to include a book title\n",
    "#as an argument in the function call.\n",
    "def favorite_book(title):\n",
    "    print(title , \" is one of my favorite books.\")\n",
    "\n",
    "favorite_book('Beginning Game development by python and pygame by will McGugan ')\n"
   ]
  },
  {
   "cell_type": "code",
   "execution_count": 8,
   "metadata": {},
   "outputs": [
    {
     "name": "stdout",
     "output_type": "stream",
     "text": [
      "Guess a number between 1 to 30 :12\n",
      "too low\n",
      "Guess a number between 1 to 30 :22\n",
      "too high\n",
      "Guess a number between 1 to 30 :20\n",
      "too high\n",
      "Guess a number between 1 to 30 :19\n",
      "too high\n",
      "Guess a number between 1 to 30 :18\n",
      "too high\n",
      "Guess a number between 1 to 30 :15\n",
      "You got it!\n"
     ]
    }
   ],
   "source": [
    "# Question5:\n",
    "# Guess the number game\n",
    "# Write a program which randomly generate a number between 1 to 30 and ask the \n",
    "# user in input field to guess the correct number. Give three chances to user \n",
    "# guess the number and also give hint to user if hidden number is greater or \n",
    "# smaller than the number he given to input field.\n",
    "import random\n",
    "it=random.randint(0, 30)\n",
    "def main():\n",
    "    x=int(input('Guess a number between 1 to 30 :'))\n",
    "    if x == it:\n",
    "        print(\"You got it!\")\n",
    "    elif x > it:\n",
    "        print(\"too high\")\n",
    "        main()\n",
    "    else:\n",
    "        print(\"too low\")\n",
    "        main()\n",
    "main()"
   ]
  },
  {
   "cell_type": "code",
   "execution_count": null,
   "metadata": {},
   "outputs": [],
   "source": []
  }
 ],
 "metadata": {
  "kernelspec": {
   "display_name": "Python 3",
   "language": "python",
   "name": "python3"
  },
  "language_info": {
   "codemirror_mode": {
    "name": "ipython",
    "version": 3
   },
   "file_extension": ".py",
   "mimetype": "text/x-python",
   "name": "python",
   "nbconvert_exporter": "python",
   "pygments_lexer": "ipython3",
   "version": "3.7.4"
  }
 },
 "nbformat": 4,
 "nbformat_minor": 2
}
