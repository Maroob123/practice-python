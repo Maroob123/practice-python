{
 "cells": [
  {
   "cell_type": "code",
   "execution_count": 2,
   "metadata": {},
   "outputs": [
    {
     "name": "stdout",
     "output_type": "stream",
     "text": [
      "Enter first value2\n",
      "Enter second value3\n",
      "Enter operatorp\n",
      "the first value you entered is the base 2 \n",
      "\n",
      "the second value you entered is the power 3 \n",
      "\n",
      "answer = 8\n"
     ]
    }
   ],
   "source": [
    "#1. Make a calculator using Python with addition , subtraction , multiplication ,\n",
    "#division and power.\n",
    "val1 = int(input('Enter first value'))\n",
    "val2 = int(input('Enter second value'))\n",
    "operator = input('Enter operator')\n",
    "\n",
    "if operator == '+':\n",
    "    val = val1 + val2\n",
    "    print('answer =',val)\n",
    "elif operator == '-':\n",
    "    val = val1 - val2\n",
    "    print('answer =',val)\n",
    "elif operator == '*':\n",
    "    val = val1 * val2\n",
    "    print('answer =',val)\n",
    "elif operator == '/':\n",
    "    val = val1 / val2\n",
    "    print('answer =',val)\n",
    "elif operator == 'p':\n",
    "    print(\"the first value you entered is the base\", val1 ,\"\\n\")\n",
    "    print(\"the second value you entered is the power\", val2 ,\"\\n\")\n",
    "    val = pow(val1,val2)\n",
    "    print('answer =' ,val)\n",
    "else:\n",
    "    print('Enter  correct Option')"
   ]
  },
  {
   "cell_type": "code",
   "execution_count": 9,
   "metadata": {},
   "outputs": [
    {
     "name": "stdout",
     "output_type": "stream",
     "text": [
      "my list contain numeric values of  ['1', '2', '3', '4', '5']\n"
     ]
    }
   ],
   "source": [
    "#2. Write a program to check if there is any numeric value in list using for loop\n",
    "mylist=['1','orange','2','3','4','apple','banana','5','watermelon']\n",
    "mynewlist=[]\n",
    "for item in mylist:\n",
    "    try:\n",
    "        int_value = int(item)\n",
    "    except ValueError:\n",
    "        pass\n",
    "    else:\n",
    "        mynewlist.append(item) # or append(int_value) if you want numbers        \n",
    "print(\"my list contain numeric values of \", mynewlist)        "
   ]
  },
  {
   "cell_type": "code",
   "execution_count": 11,
   "metadata": {},
   "outputs": [
    {
     "name": "stdout",
     "output_type": "stream",
     "text": [
      "Current Dict is:  {'key1': 'Asif', 'key2': 'fill_me'}\n",
      "Updated Dict is:  {'key1': 'Asif', 'key2': 'Maroob', 'key3': 'Shah'}\n"
     ]
    }
   ],
   "source": [
    "#3. Write a Python script to add a key to a dictionary\n",
    "dict = {'key1':'Asif', 'key2':'fill_me'} \n",
    "print(\"Current Dict is: \", dict) \n",
    "\n",
    "dict['key2'] = 'Maroob'\n",
    "dict['key3'] = 'Shah'\n",
    "print(\"Updated Dict is: \", dict) \n"
   ]
  },
  {
   "cell_type": "code",
   "execution_count": 12,
   "metadata": {},
   "outputs": [
    {
     "name": "stdout",
     "output_type": "stream",
     "text": [
      "293\n"
     ]
    }
   ],
   "source": [
    "#4. Write a Python program to sum all the numeric items in a dictionary\n",
    "my_dict = {'val1':100,'val2':-54,'val3':247}\n",
    "print(sum(my_dict.values()))"
   ]
  },
  {
   "cell_type": "code",
   "execution_count": 13,
   "metadata": {},
   "outputs": [
    {
     "name": "stdout",
     "output_type": "stream",
     "text": [
      "current list is ['a', 'b', 'a', 'c', 'c']\n",
      "Updated list is ['a', 'b', 'c']\n"
     ]
    }
   ],
   "source": [
    "#5. Write a program to identify duplicate values from list\n",
    "mylist = [\"a\", \"b\", \"a\", \"c\", \"c\"]\n",
    "print(\"current list is\",mylist)\n",
    "mylist = list(dict.fromkeys(mylist))\n",
    "print(\"Updated list is\" ,mylist)"
   ]
  },
  {
   "cell_type": "code",
   "execution_count": 18,
   "metadata": {},
   "outputs": [
    {
     "name": "stdout",
     "output_type": "stream",
     "text": [
      "Dictionary :  {'a': 'apple', 'b': 'Banana', 'o': 'Orange', 'm': 'Mango'}\n",
      "Please enter the Key you want to search for: a\n",
      "\n",
      "Key Exists in this Dictionary\n",
      "Key =  a  and Value =  apple\n"
     ]
    }
   ],
   "source": [
    "#6. Write a Python script to check if a given key already exists in a dictionary\n",
    "myDict = {'a': 'apple', 'b': 'Banana' , 'o': 'Orange', 'm': 'Mango'}\n",
    "print(\"Dictionary : \", myDict)\n",
    "\n",
    "key = input(\"Please enter the Key you want to search for: \")\n",
    "\n",
    "if key in myDict.keys():\n",
    "    print(\"\\nKey Exists in this Dictionary\")\n",
    "    print(\"Key = \", key, \" and Value = \", myDict[key])\n",
    "else:\n",
    "    print(\"\\nKey Does not Exists in this Dictionary\")"
   ]
  },
  {
   "cell_type": "code",
   "execution_count": null,
   "metadata": {},
   "outputs": [],
   "source": []
  },
  {
   "cell_type": "code",
   "execution_count": null,
   "metadata": {},
   "outputs": [],
   "source": []
  }
 ],
 "metadata": {
  "kernelspec": {
   "display_name": "Python 3",
   "language": "python",
   "name": "python3"
  },
  "language_info": {
   "codemirror_mode": {
    "name": "ipython",
    "version": 3
   },
   "file_extension": ".py",
   "mimetype": "text/x-python",
   "name": "python",
   "nbconvert_exporter": "python",
   "pygments_lexer": "ipython3",
   "version": "3.7.4"
  }
 },
 "nbformat": 4,
 "nbformat_minor": 2
}
